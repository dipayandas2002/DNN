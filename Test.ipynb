{
 "cells": [
  {
   "cell_type": "code",
   "execution_count": 36,
   "metadata": {},
   "outputs": [
    {
     "name": "stdout",
     "output_type": "stream",
     "text": [
      "                                                  *\n",
      "                                                 ***\n",
      "                                                *****\n",
      "                                               *******\n",
      "                                              *********\n",
      "                                             ***********\n",
      "                                            *************\n",
      "                                           ***************\n",
      "                                          *****************\n",
      "                                         *******************\n",
      "                                        *********************\n",
      "                                       ***********************\n",
      "                                      *************************\n",
      "                                     ***************************\n",
      "                                    *****************************\n",
      "                                   *******************************\n",
      "                                  *********************************\n",
      "                                 ***********************************\n",
      "                                *************************************\n",
      "                               ***************************************\n",
      "                              *****************************************\n",
      "                             *******************************************\n",
      "                            *********************************************\n",
      "                           ***********************************************\n",
      "                          *************************************************\n",
      "                         ***************************************************\n",
      "                        *****************************************************\n",
      "                       *******************************************************\n",
      "                      *********************************************************\n",
      "                     ***********************************************************\n",
      "                    *************************************************************\n",
      "                   ***************************************************************\n",
      "                  *****************************************************************\n",
      "                 *******************************************************************\n",
      "                *********************************************************************\n",
      "               ***********************************************************************\n",
      "              *************************************************************************\n",
      "             ***************************************************************************\n",
      "            *****************************************************************************\n",
      "           *******************************************************************************\n",
      "          *********************************************************************************\n",
      "         ***********************************************************************************\n",
      "        *************************************************************************************\n",
      "       ***************************************************************************************\n",
      "      *****************************************************************************************\n",
      "     *******************************************************************************************\n",
      "    *********************************************************************************************\n",
      "   ***********************************************************************************************\n",
      "  *************************************************************************************************\n",
      " ***************************************************************************************************\n"
     ]
    }
   ],
   "source": [
    "for i in range(1,51):\n",
    "    print(\" \"*(50-i),\"*\"*(2*i-1))"
   ]
  },
  {
   "cell_type": "code",
   "execution_count": 37,
   "metadata": {},
   "outputs": [
    {
     "data": {
      "image/png": "[encoded data removed]",
      "text/plain": [
       "<Figure size 432x288 with 1 Axes>"
      ]
     },
     "metadata": {
      "needs_background": "light"
     },
     "output_type": "display_data"
    },
    {
     "name": "stdout",
     "output_type": "stream",
     "text": [
      "24 26 18 32\n"
     ]
    }
   ],
   "source": [
    "import matplotlib.pyplot as plt\n",
    "import numpy as np\n",
    "count1=count2=count3=count4=0\n",
    "for i in range(0,100):\n",
    "    x=np.random.rand()*1000\n",
    "    y=np.random.rand()*1000\n",
    "    if (y>=800):\n",
    "        plt.scatter(x,y,300,\"red\",alpha=0.8)\n",
    "        count1=count1+1;\n",
    "    elif(y>=500):\n",
    "        plt.scatter(x,y,300,\"green\",alpha=0.6)\n",
    "        count2=count2+1;\n",
    "    elif(y>=300):\n",
    "        plt.scatter(x,y,300,\"yellow\",alpha=0.4)\n",
    "        count3=count3+1;\n",
    "    else :\n",
    "        plt.scatter(x,y,300,\"blue\",alpha=0.2)\n",
    "        count4=count4+1;\n",
    "plt.title(\"Random generated numbers\")\n",
    "plt.xlim(-200,1300)\n",
    "plt.ylim(-200,1300)\n",
    "plt.grid()\n",
    "plt.show()\n",
    "print(count1,count2,count3,count4)"
   ]
  },
  {
   "cell_type": "code",
   "execution_count": 38,
   "metadata": {},
   "outputs": [
    {
     "name": "stdout",
     "output_type": "stream",
     "text": [
      "60 0.0\n"
     ]
    }
   ],
   "source": [
    "import numpy as np\n",
    "import time\n",
    "\n",
    "w=np.array([1,2,3,4,5])\n",
    "x=np.array([1,2,3,4,6])\n",
    "\n",
    "start=time.time()\n",
    "z=np.dot(w,x)\n",
    "stop=time.time()\n",
    "\n",
    "print(z,100*(stop-start))"
   ]
  },
  {
   "cell_type": "code",
   "execution_count": 39,
   "metadata": {},
   "outputs": [
    {
     "name": "stdout",
     "output_type": "stream",
     "text": [
      "12\n"
     ]
    }
   ],
   "source": [
    "mul=np.array([1,1,1])\n",
    "matrix=np.array([[1,2,3,4],[1,2,3,4],[1,2,3,4]])\n",
    "result=np.dot(mul,matrix)\n",
    "print(result[3])"
   ]
  },
  {
   "cell_type": "code",
   "execution_count": 40,
   "metadata": {},
   "outputs": [
    {
     "name": "stdout",
     "output_type": "stream",
     "text": [
      "[[2 4 6]\n",
      " [3 5 7]]\n"
     ]
    }
   ],
   "source": [
    "import numpy as np\n",
    "x=np.array([[1,2,3],[2,3,4]])\n",
    "y=np.array([1,2,3])\n",
    "print(x+y)"
   ]
  },
  {
   "cell_type": "code",
   "execution_count": 41,
   "metadata": {},
   "outputs": [
    {
     "name": "stdout",
     "output_type": "stream",
     "text": [
      "[ 1.17624576 39.76470951 15.4191019 ]\n",
      "[[1. 1. 1.]\n",
      " [1. 1. 1.]\n",
      " [1. 1. 1.]]\n",
      "0.0\n"
     ]
    }
   ],
   "source": [
    "a=np.random.rand(3)*100\n",
    "b=np.zeros([3,3])\n",
    "b+=1\n",
    "print(a)\n",
    "print(b)\n",
    "import time\n",
    "st=time.time()\n",
    "b=(b+a)\n",
    "sp=time.time()\n",
    "print(str((sp-st)*100000))"
   ]
  },
  {
   "cell_type": "code",
   "execution_count": 42,
   "metadata": {},
   "outputs": [
    {
     "name": "stdout",
     "output_type": "stream",
     "text": [
      "[[0.5084377  0.97301079]\n",
      " [0.89966677 1.44648535]\n",
      " [0.4866044  0.81427827]\n",
      " [0.50288288 1.02663822]]\n"
     ]
    }
   ],
   "source": [
    "a=np.random.rand(4,3)\n",
    "b=np.random.rand(3,2)\n",
    "#print(a*b)\n",
    "print(np.dot(a,b))\n",
    "#print(np.dot(a.T,b)+1)"
   ]
  },
  {
   "cell_type": "code",
   "execution_count": 43,
   "metadata": {},
   "outputs": [
    {
     "name": "stdout",
     "output_type": "stream",
     "text": [
      "[[0.46297836]\n",
      " [0.13395937]\n",
      " [0.51293792]\n",
      " [0.13886899]]\n",
      "[[0.46297836 0.13395937]\n",
      " [0.51293792 0.13886899]]\n"
     ]
    }
   ],
   "source": [
    "a=np.random.rand(4,1)\n",
    "print(a)\n",
    "a=a.reshape(2,2)\n",
    "print(a)"
   ]
  },
  {
   "cell_type": "code",
   "execution_count": 44,
   "metadata": {},
   "outputs": [],
   "source": [
    "def myfnc(num1=1,num2=2):\n",
    "    print(num1,num2)\n",
    "    return (num1+num2)\n"
   ]
  },
  {
   "cell_type": "code",
   "execution_count": 45,
   "metadata": {},
   "outputs": [
    {
     "name": "stdout",
     "output_type": "stream",
     "text": [
      "3 4\n",
      "7\n"
     ]
    }
   ],
   "source": [
    "print(myfnc(3,4))"
   ]
  },
  {
   "cell_type": "code",
   "execution_count": null,
   "metadata": {},
   "outputs": [],
   "source": []
  },
  {
   "cell_type": "code",
   "execution_count": null,
   "metadata": {},
   "outputs": [],
   "source": []
  }
 ],
 "metadata": {
  "kernelspec": {
   "display_name": "Python 3",
   "language": "python",
   "name": "python3"
  },
  "language_info": {
   "codemirror_mode": {
    "name": "ipython",
    "version": 3
   },
   "file_extension": ".py",
   "mimetype": "text/x-python",
   "name": "python",
   "nbconvert_exporter": "python",
   "pygments_lexer": "ipython3",
   "version": "3.8.5"
  }
 },
 "nbformat": 4,
 "nbformat_minor": 4
}
